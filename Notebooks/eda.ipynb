{
 "cells": [
  {
   "cell_type": "code",
   "execution_count": 87,
   "metadata": {},
   "outputs": [],
   "source": [
    "import numpy as np\n",
    "import pandas as pd\n",
    "import matplotlib.pyplot as plt\n",
    "import re\n",
    "import string\n",
    "import spacy\n",
    "import nltk\n",
    "from sklearn.feature_extraction import stop_words\n",
    "\n",
    "# nltk.download('wordnet')"
   ]
  },
  {
   "cell_type": "markdown",
   "metadata": {},
   "source": [
    "## Load merged data"
   ]
  },
  {
   "cell_type": "code",
   "execution_count": 2,
   "metadata": {},
   "outputs": [
    {
     "name": "stdout",
     "output_type": "stream",
     "text": [
      "(27690, 9)\n"
     ]
    },
    {
     "data": {
      "text/html": [
       "<div>\n",
       "<style scoped>\n",
       "    .dataframe tbody tr th:only-of-type {\n",
       "        vertical-align: middle;\n",
       "    }\n",
       "\n",
       "    .dataframe tbody tr th {\n",
       "        vertical-align: top;\n",
       "    }\n",
       "\n",
       "    .dataframe thead th {\n",
       "        text-align: right;\n",
       "    }\n",
       "</style>\n",
       "<table border=\"1\" class=\"dataframe\">\n",
       "  <thead>\n",
       "    <tr style=\"text-align: right;\">\n",
       "      <th></th>\n",
       "      <th>paper_id</th>\n",
       "      <th>abstract</th>\n",
       "      <th>body_text</th>\n",
       "      <th>abstract_count</th>\n",
       "      <th>body_count</th>\n",
       "      <th>title</th>\n",
       "      <th>publish_time</th>\n",
       "      <th>authors</th>\n",
       "      <th>journal</th>\n",
       "    </tr>\n",
       "  </thead>\n",
       "  <tbody>\n",
       "    <tr>\n",
       "      <td>0</td>\n",
       "      <td>ab680d5dbc4f51252da3473109a7885dd6b5eb6f</td>\n",
       "      <td>NaN</td>\n",
       "      <td>The evolutionary history of humans is characte...</td>\n",
       "      <td>0</td>\n",
       "      <td>2884</td>\n",
       "      <td>Evolutionary Medicine IV. Evolution and Emerge...</td>\n",
       "      <td>2016-12-31</td>\n",
       "      <td>Scarpino, S.V.</td>\n",
       "      <td>Encyclopedia of Evolutionary Biology</td>\n",
       "    </tr>\n",
       "    <tr>\n",
       "      <td>1</td>\n",
       "      <td>6599ebbef3d868afac9daa4f80fa075675cf03bc</td>\n",
       "      <td>International aviation is growing rapidly, res...</td>\n",
       "      <td>Sixty years ago, civil aviation was an infant ...</td>\n",
       "      <td>140</td>\n",
       "      <td>5838</td>\n",
       "      <td>International aviation emissions to 2025: Can ...</td>\n",
       "      <td>2009-01-31</td>\n",
       "      <td>Macintosh, Andrew; Wallace, Lailey</td>\n",
       "      <td>Energy Policy</td>\n",
       "    </tr>\n",
       "    <tr>\n",
       "      <td>2</td>\n",
       "      <td>eb5c7f3ff921ad6469b79cc8a3c122648204ece4</td>\n",
       "      <td>NaN</td>\n",
       "      <td>Acute infections of the gastrointestinal tract...</td>\n",
       "      <td>0</td>\n",
       "      <td>6972</td>\n",
       "      <td>Mechanisms of diarrhoea</td>\n",
       "      <td>1993-06-30</td>\n",
       "      <td>Booth, I.W.; McNeish, A.S.</td>\n",
       "      <td>Baillière's Clinical Gastroenterology</td>\n",
       "    </tr>\n",
       "    <tr>\n",
       "      <td>3</td>\n",
       "      <td>b87b790c96c75faa22a085cb560f7b3d8e018b24</td>\n",
       "      <td>NaN</td>\n",
       "      <td>There are three domains of life-Bacteria, Arch...</td>\n",
       "      <td>0</td>\n",
       "      <td>7309</td>\n",
       "      <td>Chapter 3 Features of Host Cells Cellular and ...</td>\n",
       "      <td>2016-12-31</td>\n",
       "      <td>Louten, Jennifer</td>\n",
       "      <td>Essential Human Virology</td>\n",
       "    </tr>\n",
       "    <tr>\n",
       "      <td>4</td>\n",
       "      <td>68c0bb1989b6ca2b38da32a0d992027db39f80bc</td>\n",
       "      <td>Hong Kong's new Police Commissioner Chris Tang...</td>\n",
       "      <td>It is also noteworthy that Tang, who was once ...</td>\n",
       "      <td>154</td>\n",
       "      <td>5593</td>\n",
       "      <td>Beijing's Hard and Soft Repression in Hong Kong</td>\n",
       "      <td>2020-03-04</td>\n",
       "      <td>Hui, Victoria Tin-bor</td>\n",
       "      <td>Orbis</td>\n",
       "    </tr>\n",
       "  </tbody>\n",
       "</table>\n",
       "</div>"
      ],
      "text/plain": [
       "                                   paper_id  \\\n",
       "0  ab680d5dbc4f51252da3473109a7885dd6b5eb6f   \n",
       "1  6599ebbef3d868afac9daa4f80fa075675cf03bc   \n",
       "2  eb5c7f3ff921ad6469b79cc8a3c122648204ece4   \n",
       "3  b87b790c96c75faa22a085cb560f7b3d8e018b24   \n",
       "4  68c0bb1989b6ca2b38da32a0d992027db39f80bc   \n",
       "\n",
       "                                            abstract  \\\n",
       "0                                                NaN   \n",
       "1  International aviation is growing rapidly, res...   \n",
       "2                                                NaN   \n",
       "3                                                NaN   \n",
       "4  Hong Kong's new Police Commissioner Chris Tang...   \n",
       "\n",
       "                                           body_text  abstract_count  \\\n",
       "0  The evolutionary history of humans is characte...               0   \n",
       "1  Sixty years ago, civil aviation was an infant ...             140   \n",
       "2  Acute infections of the gastrointestinal tract...               0   \n",
       "3  There are three domains of life-Bacteria, Arch...               0   \n",
       "4  It is also noteworthy that Tang, who was once ...             154   \n",
       "\n",
       "   body_count                                              title publish_time  \\\n",
       "0        2884  Evolutionary Medicine IV. Evolution and Emerge...   2016-12-31   \n",
       "1        5838  International aviation emissions to 2025: Can ...   2009-01-31   \n",
       "2        6972                            Mechanisms of diarrhoea   1993-06-30   \n",
       "3        7309  Chapter 3 Features of Host Cells Cellular and ...   2016-12-31   \n",
       "4        5593    Beijing's Hard and Soft Repression in Hong Kong   2020-03-04   \n",
       "\n",
       "                              authors                                journal  \n",
       "0                      Scarpino, S.V.   Encyclopedia of Evolutionary Biology  \n",
       "1  Macintosh, Andrew; Wallace, Lailey                          Energy Policy  \n",
       "2          Booth, I.W.; McNeish, A.S.  Baillière's Clinical Gastroenterology  \n",
       "3                    Louten, Jennifer               Essential Human Virology  \n",
       "4               Hui, Victoria Tin-bor                                  Orbis  "
      ]
     },
     "execution_count": 2,
     "metadata": {},
     "output_type": "execute_result"
    }
   ],
   "source": [
    "root_path = \"/Users/lmeng/Documents/Kaggle/CORD-19-research-challenge\"\n",
    "merged_path = f\"{root_path}/Data/merged_v1.csv\"\n",
    "covid = pd.read_csv(merged_path)\n",
    "print(covid.shape)\n",
    "covid.head()"
   ]
  },
  {
   "cell_type": "code",
   "execution_count": 3,
   "metadata": {},
   "outputs": [
    {
     "name": "stdout",
     "output_type": "stream",
     "text": [
      "<class 'pandas.core.frame.DataFrame'>\n",
      "RangeIndex: 27690 entries, 0 to 27689\n",
      "Data columns (total 9 columns):\n",
      "paper_id          27690 non-null object\n",
      "abstract          20228 non-null object\n",
      "body_text         27690 non-null object\n",
      "abstract_count    27690 non-null int64\n",
      "body_count        27690 non-null int64\n",
      "title             27646 non-null object\n",
      "publish_time      27618 non-null object\n",
      "authors           26940 non-null object\n",
      "journal           26796 non-null object\n",
      "dtypes: int64(2), object(7)\n",
      "memory usage: 1.9+ MB\n"
     ]
    }
   ],
   "source": [
    "covid.info()"
   ]
  },
  {
   "cell_type": "markdown",
   "metadata": {},
   "source": [
    "### Drop duplicate articles"
   ]
  },
  {
   "cell_type": "code",
   "execution_count": 8,
   "metadata": {},
   "outputs": [
    {
     "name": "stdout",
     "output_type": "stream",
     "text": [
      "27662\n"
     ]
    }
   ],
   "source": [
    "print(covid.body_text.nunique())\n",
    "covid.drop_duplicates(\"body_text\", inplace=True)"
   ]
  },
  {
   "cell_type": "markdown",
   "metadata": {},
   "source": [
    "## Processing pipeline\n",
    "- Tokenize\n",
    "- Lemmatize / (Stem)\n",
    "- stop words"
   ]
  },
  {
   "cell_type": "code",
   "execution_count": 90,
   "metadata": {},
   "outputs": [
    {
     "data": {
      "text/html": [
       "<div>\n",
       "<style scoped>\n",
       "    .dataframe tbody tr th:only-of-type {\n",
       "        vertical-align: middle;\n",
       "    }\n",
       "\n",
       "    .dataframe tbody tr th {\n",
       "        vertical-align: top;\n",
       "    }\n",
       "\n",
       "    .dataframe thead th {\n",
       "        text-align: right;\n",
       "    }\n",
       "</style>\n",
       "<table border=\"1\" class=\"dataframe\">\n",
       "  <thead>\n",
       "    <tr style=\"text-align: right;\">\n",
       "      <th></th>\n",
       "      <th>body_text</th>\n",
       "    </tr>\n",
       "  </thead>\n",
       "  <tbody>\n",
       "    <tr>\n",
       "      <td>0</td>\n",
       "      <td>The evolutionary history of humans is characte...</td>\n",
       "    </tr>\n",
       "    <tr>\n",
       "      <td>1</td>\n",
       "      <td>Sixty years ago, civil aviation was an infant ...</td>\n",
       "    </tr>\n",
       "    <tr>\n",
       "      <td>2</td>\n",
       "      <td>Acute infections of the gastrointestinal tract...</td>\n",
       "    </tr>\n",
       "    <tr>\n",
       "      <td>3</td>\n",
       "      <td>There are three domains of life-Bacteria, Arch...</td>\n",
       "    </tr>\n",
       "    <tr>\n",
       "      <td>4</td>\n",
       "      <td>It is also noteworthy that Tang, who was once ...</td>\n",
       "    </tr>\n",
       "  </tbody>\n",
       "</table>\n",
       "</div>"
      ],
      "text/plain": [
       "                                           body_text\n",
       "0  The evolutionary history of humans is characte...\n",
       "1  Sixty years ago, civil aviation was an infant ...\n",
       "2  Acute infections of the gastrointestinal tract...\n",
       "3  There are three domains of life-Bacteria, Arch...\n",
       "4  It is also noteworthy that Tang, who was once ..."
      ]
     },
     "execution_count": 90,
     "metadata": {},
     "output_type": "execute_result"
    }
   ],
   "source": [
    "# take the first 10,000 rows\n",
    "body = covid[[\"body_text\"]][:10000]\n",
    "body.head(5)"
   ]
  },
  {
   "cell_type": "markdown",
   "metadata": {},
   "source": [
    "### Wrap the functionality"
   ]
  },
  {
   "cell_type": "code",
   "execution_count": 91,
   "metadata": {},
   "outputs": [],
   "source": [
    "def tokenize(text):\n",
    "    text = text.lower()\n",
    "    text = re.sub(\"[\" + string.punctuation + \"0-9\\\\r\\\\t\\\\n]\", \" \", text)\n",
    "    tokens = nltk.word_tokenize(text)\n",
    "    tokens = [token for token in tokens if token not in stop_words.ENGLISH_STOP_WORDS]\n",
    "    lemmatizer = nltk.stem.WordNetLemmatizer()\n",
    "    tokens = [lemmatizer.lemmatize(token) for token in tokens if len(token) > 2]\n",
    "    return tokens"
   ]
  },
  {
   "cell_type": "code",
   "execution_count": 92,
   "metadata": {},
   "outputs": [
    {
     "data": {
      "text/html": [
       "<div>\n",
       "<style scoped>\n",
       "    .dataframe tbody tr th:only-of-type {\n",
       "        vertical-align: middle;\n",
       "    }\n",
       "\n",
       "    .dataframe tbody tr th {\n",
       "        vertical-align: top;\n",
       "    }\n",
       "\n",
       "    .dataframe thead th {\n",
       "        text-align: right;\n",
       "    }\n",
       "</style>\n",
       "<table border=\"1\" class=\"dataframe\">\n",
       "  <thead>\n",
       "    <tr style=\"text-align: right;\">\n",
       "      <th></th>\n",
       "      <th>body_text</th>\n",
       "    </tr>\n",
       "  </thead>\n",
       "  <tbody>\n",
       "    <tr>\n",
       "      <td>0</td>\n",
       "      <td>[evolutionary, history, human, characterized, ...</td>\n",
       "    </tr>\n",
       "    <tr>\n",
       "      <td>1</td>\n",
       "      <td>[year, ago, civil, aviation, infant, industry,...</td>\n",
       "    </tr>\n",
       "    <tr>\n",
       "      <td>2</td>\n",
       "      <td>[acute, infection, gastrointestinal, tract, fa...</td>\n",
       "    </tr>\n",
       "    <tr>\n",
       "      <td>3</td>\n",
       "      <td>[domain, life, bacteria, archaea, eukarya, org...</td>\n",
       "    </tr>\n",
       "    <tr>\n",
       "      <td>4</td>\n",
       "      <td>[noteworthy, tang, district, commander, yuen, ...</td>\n",
       "    </tr>\n",
       "  </tbody>\n",
       "</table>\n",
       "</div>"
      ],
      "text/plain": [
       "                                           body_text\n",
       "0  [evolutionary, history, human, characterized, ...\n",
       "1  [year, ago, civil, aviation, infant, industry,...\n",
       "2  [acute, infection, gastrointestinal, tract, fa...\n",
       "3  [domain, life, bacteria, archaea, eukarya, org...\n",
       "4  [noteworthy, tang, district, commander, yuen, ..."
      ]
     },
     "execution_count": 92,
     "metadata": {},
     "output_type": "execute_result"
    }
   ],
   "source": [
    "body[\"body_text\"] = body[\"body_text\"].apply(tokenize)\n",
    "body.head()"
   ]
  },
  {
   "cell_type": "code",
   "execution_count": null,
   "metadata": {},
   "outputs": [],
   "source": []
  },
  {
   "cell_type": "code",
   "execution_count": null,
   "metadata": {},
   "outputs": [],
   "source": []
  },
  {
   "cell_type": "code",
   "execution_count": null,
   "metadata": {},
   "outputs": [],
   "source": []
  },
  {
   "cell_type": "code",
   "execution_count": null,
   "metadata": {},
   "outputs": [],
   "source": []
  },
  {
   "cell_type": "code",
   "execution_count": 30,
   "metadata": {},
   "outputs": [],
   "source": [
    "spacy_nlp = spacy.load(\"en_core_web_sm\")"
   ]
  },
  {
   "cell_type": "code",
   "execution_count": 67,
   "metadata": {},
   "outputs": [
    {
     "data": {
      "text/plain": [
       "'Harry he s is 12going   to marry   her  anyway  '"
      ]
     },
     "execution_count": 67,
     "metadata": {},
     "output_type": "execute_result"
    }
   ],
   "source": [
    "text = \"Harry he's is 12going \\n to marry , her. anyway!?\"\n",
    "text = re.sub(\"[\" + string.punctuation + \"\\\\r\\\\t\\\\n]\", \" \", text)\n",
    "text\n"
   ]
  },
  {
   "cell_type": "code",
   "execution_count": 86,
   "metadata": {},
   "outputs": [
    {
     "data": {
      "text/plain": [
       "'cant'"
      ]
     },
     "execution_count": 86,
     "metadata": {},
     "output_type": "execute_result"
    }
   ],
   "source": [
    "lemmatizer = nltk.stem.WordNetLemmatizer()\n",
    "lemmatizer.lemmatize(\"cant\")"
   ]
  }
 ],
 "metadata": {
  "kernelspec": {
   "display_name": "Python 3",
   "language": "python",
   "name": "python3"
  },
  "language_info": {
   "codemirror_mode": {
    "name": "ipython",
    "version": 3
   },
   "file_extension": ".py",
   "mimetype": "text/x-python",
   "name": "python",
   "nbconvert_exporter": "python",
   "pygments_lexer": "ipython3",
   "version": "3.7.3"
  }
 },
 "nbformat": 4,
 "nbformat_minor": 4
}
